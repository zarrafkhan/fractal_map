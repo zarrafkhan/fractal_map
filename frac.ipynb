{
 "cells": [
  {
   "cell_type": "code",
   "execution_count": 4,
   "metadata": {},
   "outputs": [],
   "source": [
    "import geopandas as gpd\n",
    "import math\n",
    "import matplotlib.pyplot as plt\n",
    "import numpy as np\n",
    "import warnings\n",
    "\n",
    "from IPython.display import Javascript, display, clear_output\n",
    "from ipywidgets import widgets\n",
    "from scipy import stats\n",
    "from shapely.geometry import shape, Polygon\n",
    "from ipyleaflet import (\n",
    "     Map,\n",
    "     basemaps,\n",
    "     DrawControl,\n",
    "     GeoData,\n",
    ")"
   ]
  },
  {
   "cell_type": "code",
   "execution_count": 36,
   "metadata": {},
   "outputs": [],
   "source": [
    "def filter_coords(dc, df):\n",
    "    #ignore future version err\n",
    "    with warnings.catch_warnings():\n",
    "        warnings.simplefilter('ignore')\n",
    "        #map based filter\n",
    "        b = dc['coordinates'][0]\n",
    "        poly = Polygon(b[:-1])\n",
    "        clipped = df.clip(poly)\n",
    "        coords = clipped.get_coordinates().to_numpy().tolist()\n",
    "    return coords \n",
    "\n",
    "#fill up line features with points (increase complexity)\n",
    "def fill_between_points(pointa, pointb,n):\n",
    "    (xmin,ymin) = pointa\n",
    "    (xmax,ymax) = pointb\n",
    "    return [[xmin + i*(xmax-xmin)/n,ymin + i*(ymax-ymin)/n] for i in range(n)] + [[xmax,ymax]]\n",
    "\n",
    "def fill_set(coords):\n",
    "    new = []\n",
    "    for i in range(len(coords)-1):\n",
    "        new.extend(fill_between_points(coords[i], coords[i+1], 500))\n",
    "    print(\"Set size:\",len(new))\n",
    "    return new\n",
    "\n",
    "def generate_bin_edges(bounds,l):\n",
    "    \n",
    "    (xrange,yrange) = bounds\n",
    "    (xmin,xmax) = xrange\n",
    "    (ymin,ymax) = yrange\n",
    "    \n",
    "    nx = (xmax-xmin)/l\n",
    "    ny = (ymax-ymin)/l\n",
    "    \n",
    "    xlocs = np.linspace(xmin,xmax-l,math.ceil(nx))\n",
    "    ylocs = np.linspace(ymin,ymax-l,math.ceil(ny))\n",
    "            \n",
    "    return (xlocs,ylocs)\n",
    "\n",
    "def get_count(allcoords,l):\n",
    "    longs = [x[0] for x in allcoords]\n",
    "    lats  = [x[1] for x in allcoords]\n",
    "    \n",
    "    boundlong = (min(longs), max(longs))\n",
    "    boundlat = (min(lats), max(lats))\n",
    "    \n",
    "    grid, _, _ = np.histogram2d(longs, lats,bins=generate_bin_edges((boundlong,boundlat),l))\n",
    "    return np.count_nonzero(grid)\n",
    "\n",
    "def get_dimension(scale,counts):\n",
    "    slope, intercept, r_value, p_value, std_err = stats.linregress(np.log(scale),np.log(counts))\n",
    "\n",
    "    dimension = -slope\n",
    "    return dimension\n",
    "\n",
    "def set_counts(new, ls):\n",
    "    counts = [0]*len(ls)\n",
    "\n",
    "    if new:\n",
    "        print('Occupied Boxes')\n",
    "        print('Intervals   ','Boxes')\n",
    "        s1= \"          \"\n",
    "        s2= \"         \"\n",
    "        for i in range(len(ls)):\n",
    "            counts[i] = get_count(new,ls[i])\n",
    "            if ((i+1)>=10):\n",
    "                print(i+1,s2,counts[i])\n",
    "            if ((i+1)<10):\n",
    "                print(i+1,s1,counts[i])\n",
    "    return counts\n",
    "\n",
    "def plot(ls, counts):\n",
    "    #ignore UserWarning\n",
    "    with warnings.catch_warnings():\n",
    "        warnings.simplefilter('ignore')\n",
    "        plt.loglog(ls,counts,'bx')\n",
    "        plt.grid(\"True\")\n",
    "        plt.xlabel('$\\it{Log(ls)}$')\n",
    "        plt.ylabel('$\\it{Log(box-counts)}$')\n",
    "        plt.show()\n",
    "        print('Fractal Dimension:',get_dimension(ls,counts))\n",
    "\n",
    "def draw_map(center, zoom):\n",
    "    return Map(basemap=basemaps.OpenStreetMap.Mapnik, center=center, zoom=zoom, layout= widgets.Layout(width='75%'))\n",
    "\n",
    "def load_grid(df, m):\n",
    "    grid = GeoData(geo_dataframe = df, style={})\n",
    "    m.add(grid)\n",
    "    return m"
   ]
  },
  {
   "cell_type": "code",
   "execution_count": 50,
   "metadata": {},
   "outputs": [
    {
     "data": {
      "application/vnd.jupyter.widget-view+json": {
       "model_id": "9d35d97044d3419982ab50495d09ea71",
       "version_major": 2,
       "version_minor": 0
      },
      "text/plain": [
       "HTML(value='<b>Fractal Dimension of Electrical Grid Calculator</b><br>Please create a polygon filter')"
      ]
     },
     "metadata": {},
     "output_type": "display_data"
    },
    {
     "data": {
      "application/vnd.jupyter.widget-view+json": {
       "model_id": "35ecefce108542af8acae6f345670566",
       "version_major": 2,
       "version_minor": 0
      },
      "text/plain": [
       "HBox(children=(Map(center=[38, -121], controls=(ZoomControl(options=['position', 'zoom_in_text', 'zoom_in_titl…"
      ]
     },
     "metadata": {},
     "output_type": "display_data"
    },
    {
     "data": {
      "application/vnd.jupyter.widget-view+json": {
       "model_id": "10590bcf7edf46f4828f83a490317636",
       "version_major": 2,
       "version_minor": 0
      },
      "text/plain": [
       "Output()"
      ]
     },
     "metadata": {},
     "output_type": "display_data"
    }
   ],
   "source": [
    "# MAIN\n",
    "center = [38,-121]\n",
    "zoom = 7\n",
    "fp = 'sets/cali1.geojson'\n",
    "\n",
    "title = widgets.HTML(\n",
    "    value=\"<b>Fractal Dimension of Electrical Grid Calculator</b><br>Please create a polygon filter\",\n",
    ")\n",
    "out1 = widgets.Output(layout=widgets.Layout(width='20%'))\n",
    "out2 = widgets.Output()\n",
    "\n",
    "#load cali grid in map\n",
    "df = gpd.read_file(fp).drop(columns=['Creator_Date','Last_Editor_Date','Owner', 'kV_Sort', 'Type','Legend', \n",
    "                                     'Creator','Last_Editor', 'Comments', 'Source', 'TLine_Name', 'GlobalID'])\n",
    "m = load_grid(df, draw_map(center, zoom))\n",
    "\n",
    "#add draw polygon func\n",
    "draw_control = DrawControl(edit=False, circlemarker={}, polyline={}, \n",
    "                        polygon = {\n",
    "                            \"shapeOptions\": {\n",
    "                                \"fillColor\": \"#FF0000\",\n",
    "                                \"color\": \"#FF0000\",\n",
    "                                \"fillOpacity\": 0.4\n",
    "                            }}\n",
    "                            )\n",
    "\n",
    "def handle_draw(target, action, geo_json):\n",
    "    dc = geo_json['geometry']\n",
    "\n",
    "    if action in ['created']: \n",
    "        out1.clear_output()\n",
    "        out2.clear_output()\n",
    "        with out1:\n",
    "                set = fill_set(filter_coords(dc, df))\n",
    "                ls = np.logspace(-2,-5,10)\n",
    "                counts = set_counts(set, ls)\n",
    "        with out2:\n",
    "            plot(ls, counts) \n",
    "\n",
    "draw_control.on_draw(handle_draw)\n",
    "\n",
    "m.add(draw_control)\n",
    "\n",
    "display(title)\n",
    "display(widgets.HBox([m,out1]))\n",
    "display(out2)"
   ]
  }
 ],
 "metadata": {
  "kernelspec": {
   "display_name": "Python 3",
   "language": "python",
   "name": "python3"
  },
  "language_info": {
   "codemirror_mode": {
    "name": "ipython",
    "version": 3
   },
   "file_extension": ".py",
   "mimetype": "text/x-python",
   "name": "python",
   "nbconvert_exporter": "python",
   "pygments_lexer": "ipython3",
   "version": "3.10.0"
  }
 },
 "nbformat": 4,
 "nbformat_minor": 4
}
