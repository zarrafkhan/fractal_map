{
 "cells": [
  {
   "cell_type": "code",
   "execution_count": 1,
   "metadata": {},
   "outputs": [],
   "source": [
    "import geopandas as gpd\n",
    "import math\n",
    "import matplotlib.pyplot as plt\n",
    "import numpy as np\n",
    "import warnings\n",
    "\n",
    "from IPython.display import Javascript, display\n",
    "from ipywidgets.widgets import Button\n",
    "from scipy import stats\n",
    "from shapely.geometry import shape, Polygon\n",
    "from ipyleaflet import (\n",
    "     Map,\n",
    "     basemaps,\n",
    "     DrawControl,\n",
    "     GeoData,\n",
    ")"
   ]
  },
  {
   "cell_type": "code",
   "execution_count": 15,
   "metadata": {},
   "outputs": [
    {
     "data": {
      "application/vnd.jupyter.widget-view+json": {
       "model_id": "d126662d664045af9811a728e82c05e8",
       "version_major": 2,
       "version_minor": 0
      },
      "text/plain": [
       "Map(center=[38, -121], controls=(ZoomControl(options=['position', 'zoom_in_text', 'zoom_in_title', 'zoom_out_t…"
      ]
     },
     "execution_count": 15,
     "metadata": {},
     "output_type": "execute_result"
    }
   ],
   "source": [
    "#load cali grid in map\n",
    "center = [38,-121]\n",
    "zoom = 7\n",
    "\n",
    "m = Map(basemap=basemaps.OpenStreetMap.Mapnik, center=center, zoom=zoom)\n",
    "df = gpd.read_file('sets/cali1.geojson').drop(columns=['Creator_Date', 'Last_Editor_Date'])\n",
    "grid = GeoData(geo_dataframe = df, style={})\n",
    "m.add(grid)\n",
    "\n",
    "#add draw polygon func\n",
    "draw_control = DrawControl(edit=False, circlemarker={}, polyline={}, \n",
    "                           polygon = {\n",
    "                            \"shapeOptions\": {\n",
    "                                \"fillColor\": \"#FF0000\",\n",
    "                                \"color\": \"#FF0000\",\n",
    "                                \"fillOpacity\": 0.5\n",
    "                            }})\n",
    "m.add(draw_control)\n",
    "m"
   ]
  },
  {
   "cell_type": "code",
   "execution_count": 16,
   "metadata": {},
   "outputs": [],
   "source": [
    "coords = []\n",
    "#ignore future version err\n",
    "with warnings.catch_warnings():\n",
    "    warnings.simplefilter('ignore')\n",
    "    #map based filter\n",
    "    if draw_control.last_draw['geometry'] is not None:\n",
    "        b = draw_control.last_draw['geometry']['coordinates'][0]\n",
    "        poly = Polygon(b[:-1])\n",
    "        clipped = df.clip(poly)\n",
    "        coords = clipped.get_coordinates().to_numpy().tolist()"
   ]
  },
  {
   "cell_type": "code",
   "execution_count": 13,
   "metadata": {},
   "outputs": [
    {
     "name": "stdout",
     "output_type": "stream",
     "text": [
      "Set size: 0\n"
     ]
    }
   ],
   "source": [
    "#fill up line features with points (increase complexity)\n",
    "def fill_between_points(pointa, pointb,n):\n",
    "    (xmin,ymin) = pointa;\n",
    "    (xmax,ymax) = pointb;\n",
    "    return [[xmin + i*(xmax-xmin)/n,ymin + i*(ymax-ymin)/n] for i in range(n)] + [[xmax,ymax]]\n",
    "\n",
    "new = []\n",
    "for i in range(len(coords)-1):\n",
    "    new.extend(fill_between_points(coords[i], coords[i+1], 500))\n",
    "print(\"Set size:\",len(new))"
   ]
  },
  {
   "cell_type": "code",
   "execution_count": 17,
   "metadata": {},
   "outputs": [],
   "source": [
    "def generate_bin_edges(bounds,l):\n",
    "    \n",
    "    (xrange,yrange) = bounds\n",
    "    (xmin,xmax) = xrange\n",
    "    (ymin,ymax) = yrange\n",
    "    \n",
    "    nx = (xmax-xmin)/l;\n",
    "    ny = (ymax-ymin)/l;\n",
    "    \n",
    "    xlocs = np.linspace(xmin,xmax-l,math.ceil(nx));\n",
    "    ylocs = np.linspace(ymin,ymax-l,math.ceil(ny));\n",
    "            \n",
    "    return (xlocs,ylocs)\n",
    "\n",
    "def get_count(allcoords,l):\n",
    "    longs = [x[0] for x in allcoords]\n",
    "    lats  = [x[1] for x in allcoords]\n",
    "    \n",
    "    boundlong = (min(longs), max(longs))\n",
    "    boundlat = (min(lats), max(lats))\n",
    "    \n",
    "    grid, _, _ = np.histogram2d(longs, lats,bins=generate_bin_edges((boundlong,boundlat),l))\n",
    "    return np.count_nonzero(grid)\n",
    "\n",
    "def get_dimension(scale,counts):\n",
    "    slope, intercept, r_value, p_value, std_err = stats.linregress(np.log(scale),np.log(counts))\n",
    "\n",
    "    dimension = -slope\n",
    "    return dimension"
   ]
  },
  {
   "cell_type": "code",
   "execution_count": 18,
   "metadata": {},
   "outputs": [],
   "source": [
    "ls = np.logspace(-2,-5,10)\n",
    "counts = [0]*len(ls)\n",
    "\n",
    "if new:\n",
    "    print('Intervals   ','Boxes')\n",
    "    s1= \"          \"\n",
    "    s2= \"         \"\n",
    "    for i in range(len(ls)):\n",
    "        counts[i] = get_count(new,ls[i])\n",
    "        if ((i+1)>=10):\n",
    "            print(i+1,s2,counts[i])\n",
    "        if ((i+1)<10):\n",
    "            print(i+1,s1,counts[i]) "
   ]
  },
  {
   "cell_type": "code",
   "execution_count": 19,
   "metadata": {},
   "outputs": [
    {
     "data": {
      "image/png": "[encoded data removed]",
      "text/plain": [
       "<Figure size 640x480 with 1 Axes>"
      ]
     },
     "metadata": {},
     "output_type": "display_data"
    },
    {
     "name": "stdout",
     "output_type": "stream",
     "text": [
      "Fractal Dimension: nan\n"
     ]
    }
   ],
   "source": [
    "#ignore UserWarning\n",
    "with warnings.catch_warnings():\n",
    "    warnings.simplefilter('ignore')\n",
    "    plt.loglog(ls,counts,'bx')\n",
    "    plt.grid(\"True\")\n",
    "    plt.show()\n",
    "    print('Fractal Dimension:',get_dimension(ls,counts))"
   ]
  }
 ],
 "metadata": {
  "kernelspec": {
   "display_name": "Python 3",
   "language": "python",
   "name": "python3"
  },
  "language_info": {
   "codemirror_mode": {
    "name": "ipython",
    "version": 3
   },
   "file_extension": ".py",
   "mimetype": "text/x-python",
   "name": "python",
   "nbconvert_exporter": "python",
   "pygments_lexer": "ipython3",
   "version": "3.10.0"
  },
  "orig_nbformat": 4
 },
 "nbformat": 4,
 "nbformat_minor": 2
}
