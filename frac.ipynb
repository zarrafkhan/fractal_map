{
 "cells": [
  {
   "cell_type": "code",
   "execution_count": null,
   "metadata": {},
   "outputs": [],
   "source": [
    "import geopandas as gpd\n",
    "import math\n",
    "import matplotlib.pyplot as plt\n",
    "import numpy as np\n",
    "import warnings\n",
    "\n",
    "from IPython.display import Javascript, display, clear_output\n",
    "from ipywidgets import widgets\n",
    "from scipy import stats\n",
    "from shapely.geometry import shape, Polygon\n",
    "from ipyleaflet import (\n",
    "     Map,\n",
    "     basemaps,\n",
    "     DrawControl,\n",
    "     GeoData,\n",
    ")"
   ]
  },
  {
   "cell_type": "code",
   "execution_count": null,
   "metadata": {},
   "outputs": [],
   "source": [
    "def filter_coords(dc, df):\n",
    "    #ignore future version err\n",
    "    with warnings.catch_warnings():\n",
    "        warnings.simplefilter('ignore')\n",
    "        #map based filter\n",
    "        b = dc['coordinates'][0]\n",
    "        poly = Polygon(b[:-1])\n",
    "        clipped = df.clip(poly)\n",
    "        coords = clipped.get_coordinates().to_numpy().tolist()\n",
    "    return coords \n",
    "\n",
    "#fill up line features with points (increase complexity)\n",
    "def fill_between_points(pointa, pointb,n):\n",
    "    (xmin,ymin) = pointa\n",
    "    (xmax,ymax) = pointb\n",
    "    return [[xmin + i*(xmax-xmin)/n,ymin + i*(ymax-ymin)/n] for i in range(n)] + [[xmax,ymax]]\n",
    "\n",
    "def fill_set(coords):\n",
    "    new = []\n",
    "    for i in range(len(coords)-1):\n",
    "        new.extend(fill_between_points(coords[i], coords[i+1], 500))\n",
    "    print(\"Set size:\",len(new))\n",
    "    return new\n",
    "\n",
    "def generate_bin_edges(bounds,l):\n",
    "    \n",
    "    (xrange,yrange) = bounds\n",
    "    (xmin,xmax) = xrange\n",
    "    (ymin,ymax) = yrange\n",
    "    \n",
    "    nx = (xmax-xmin)/l\n",
    "    ny = (ymax-ymin)/l\n",
    "    \n",
    "    xlocs = np.linspace(xmin,xmax-l,math.ceil(nx))\n",
    "    ylocs = np.linspace(ymin,ymax-l,math.ceil(ny))\n",
    "            \n",
    "    return (xlocs,ylocs)\n",
    "\n",
    "def get_count(allcoords,l):\n",
    "    longs = [x[0] for x in allcoords]\n",
    "    lats  = [x[1] for x in allcoords]\n",
    "    \n",
    "    boundlong = (min(longs), max(longs))\n",
    "    boundlat = (min(lats), max(lats))\n",
    "    \n",
    "    grid, _, _ = np.histogram2d(longs, lats,bins=generate_bin_edges((boundlong,boundlat),l))\n",
    "    return np.count_nonzero(grid)\n",
    "\n",
    "def get_dimension(scale,counts):\n",
    "    \n",
    "    slope, i, r, p, s_e = stats.linregress(np.log(scale),np.log(counts))\n",
    "    dimension = -slope\n",
    "    return dimension, i\n",
    "\n",
    "def set_counts(new, ls):\n",
    "    counts = [0]*len(ls)\n",
    "\n",
    "    if new:\n",
    "        print('Occupied Boxes')\n",
    "        print('Intervals   ','Boxes')\n",
    "        s1= \"          \"\n",
    "        s2= \"         \"\n",
    "        for i in range(len(ls)):\n",
    "            counts[i] = get_count(new,ls[i])\n",
    "            if ((i+1)>=10):\n",
    "                print(i+1,s2,counts[i])\n",
    "            if ((i+1)<10):\n",
    "                print(i+1,s1,counts[i])\n",
    "    return counts\n",
    "\n",
    "def plot(ls, counts):\n",
    "    #ignore UserWarning\n",
    "    with warnings.catch_warnings():\n",
    "        warnings.simplefilter('ignore')\n",
    "\n",
    "        slope, i = get_dimension(ls,counts)\n",
    "        xfit = np.linspace(-7,-2,10)\n",
    "        \n",
    "        plt.plot(xfit,xfit*-slope+i,'r',label = 'Least Square Line')\n",
    "        plt.plot(np.log(ls),np.log(counts),'xb',label = 'datapoints')\n",
    "\n",
    "        plt.grid(\"True\")\n",
    "        plt.xlabel('$\\it{Log(ls)}$')\n",
    "        plt.ylabel('$\\it{Log(box-counts)}$')\n",
    "        plt.legend(loc=\"upper right\")\n",
    "        plt.show()\n",
    "        print('Fractal Dimension:',slope)\n",
    "\n",
    "\n",
    "def draw_map(center, zoom):\n",
    "    return Map(basemap=basemaps.OpenTopoMap, center=center,\n",
    "               zoom=zoom, layout= widgets.Layout(width='52%'))\n",
    "\n",
    "def load_grid(df, m):\n",
    "    grid = GeoData(geo_dataframe = df, style={'color': 'blue' , 'opacity': 0.7})\n",
    "    m.add(grid)\n",
    "    return m\n",
    "    "
   ]
  },
  {
   "cell_type": "code",
   "execution_count": 121,
   "metadata": {},
   "outputs": [
    {
     "data": {
      "application/vnd.jupyter.widget-view+json": {
       "model_id": "4a9ad21c431f419a94ac31ee2fef9439",
       "version_major": 2,
       "version_minor": 0
      },
      "text/plain": [
       "HTML(value='<b>Fractal Dimension of Electrical Grid Calculator</b><br>Please create a polygon filter')"
      ]
     },
     "metadata": {},
     "output_type": "display_data"
    },
    {
     "data": {
      "application/vnd.jupyter.widget-view+json": {
       "model_id": "e5a4966210c4475c919bee106335c15c",
       "version_major": 2,
       "version_minor": 0
      },
      "text/plain": [
       "Map(center=[38, -121], controls=(ZoomControl(options=['position', 'zoom_in_text', 'zoom_in_title', 'zoom_out_t…"
      ]
     },
     "metadata": {},
     "output_type": "display_data"
    },
    {
     "data": {
      "application/vnd.jupyter.widget-view+json": {
       "model_id": "474a063d87a64ab4a3c427c4c9b27d16",
       "version_major": 2,
       "version_minor": 0
      },
      "text/plain": [
       "HBox(children=(Output(layout=Layout(width='20%')), Output()))"
      ]
     },
     "metadata": {},
     "output_type": "display_data"
    }
   ],
   "source": [
    "# MAIN\n",
    "center = [38,-121]\n",
    "zoom = 7\n",
    "fp = 'sets/med-high.geojson'\n",
    "\n",
    "title = widgets.HTML(\n",
    "    value=\"<b>Fractal Dimension of Electrical Grid Calculator</b><br>Please create a polygon filter\",\n",
    ")\n",
    "out1 = widgets.Output(layout=widgets.Layout(width='20%'))\n",
    "out2 = widgets.Output()\n",
    "\n",
    "#load cali grid in map \n",
    "df = gpd.read_file(fp).drop(columns=['Creator_Date','Last_Editor_Date','Owner', 'kV', 'Type','Legend', \n",
    "                                     'Creator','Last_Editor', 'Comments', 'Source', 'TLine_Name', 'GlobalID'])\n",
    "f = df[df['kV_Sort'].notna()]\n",
    "\n",
    "m = load_grid(f, draw_map(center, zoom))\n",
    "\n",
    "#add draw polygon func\n",
    "draw_control = DrawControl(edit=False, circlemarker={}, polyline={}, \n",
    "                        polygon = {\n",
    "                            \"shapeOptions\": {\n",
    "                                \"fillColor\": \"#FF0000\",\n",
    "                                \"color\": \"#FF0000\",\n",
    "                                \"fillOpacity\": 0.4\n",
    "                            }}\n",
    "                            )\n",
    "\n",
    "def handle_draw(target, action, geo_json):\n",
    "    dc = geo_json['geometry']\n",
    "\n",
    "    if action in ['created']: \n",
    "        out1.clear_output()\n",
    "        out2.clear_output()\n",
    "        with out1:\n",
    "                set = fill_set(filter_coords(dc, f))\n",
    "                ls = np.logspace(-1,-3,10)\n",
    "                counts = set_counts(set, ls)\n",
    "                \n",
    "        with out2:\n",
    "            plot(ls, counts) \n",
    "\n",
    "draw_control.on_draw(handle_draw)\n",
    "\n",
    "m.add(draw_control)\n",
    "\n",
    "display(title)\n",
    "display(m)\n",
    "display(widgets.HBox([out1,out2]))"
   ]
  }
 ],
 "metadata": {
  "kernelspec": {
   "display_name": "Python 3",
   "language": "python",
   "name": "python3"
  },
  "language_info": {
   "codemirror_mode": {
    "name": "ipython",
    "version": 3
   },
   "file_extension": ".py",
   "mimetype": "text/x-python",
   "name": "python",
   "nbconvert_exporter": "python",
   "pygments_lexer": "ipython3",
   "version": "3.10.0"
  }
 },
 "nbformat": 4,
 "nbformat_minor": 4
}
