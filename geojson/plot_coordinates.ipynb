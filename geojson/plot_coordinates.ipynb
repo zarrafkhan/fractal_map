{
 "cells": [
  {
   "cell_type": "code",
   "execution_count": 41,
   "metadata": {},
   "outputs": [],
   "source": [
    "import json\n",
    "from scipy import stats\n",
    "import matplotlib.pyplot as plt\n",
    "import math\n",
    "import numpy as np"
   ]
  },
  {
   "cell_type": "code",
   "execution_count": 42,
   "metadata": {},
   "outputs": [],
   "source": [
    "def fill_between_points(pointa, pointb,n):\n",
    "    (xmin,ymin) = pointa;\n",
    "    (xmax,ymax) = pointb;\n",
    "    return [[xmin + i*(xmax-xmin)/n,ymin + i*(ymax-ymin)/n] for i in range(n)] + [[xmax,ymax]]"
   ]
  },
  {
   "cell_type": "code",
   "execution_count": 43,
   "metadata": {},
   "outputs": [],
   "source": [
    "#load data\n",
    "\n",
    "with open('export_sg.geojson') as f:\n",
    "    data = json.load(f)\n",
    "    \n",
    "allcoords = []\n",
    "\n",
    "for feature in data['features']:\n",
    "    if feature['geometry']['type'] == \"LineString\":\n",
    "        for i in range(len(feature['geometry']['coordinates'])-1):\n",
    "            allcoords.extend(fill_between_points(feature['geometry']['coordinates'][i],feature['geometry']['coordinates'][i+1],500))"
   ]
  },
  {
   "cell_type": "code",
   "execution_count": 44,
   "metadata": {
    "scrolled": true
   },
   "outputs": [
    {
     "data": {
      "text/plain": [
       "19258440"
      ]
     },
     "execution_count": 44,
     "metadata": {},
     "output_type": "execute_result"
    }
   ],
   "source": [
    "len(allcoords)"
   ]
  },
  {
   "cell_type": "code",
   "execution_count": 45,
   "metadata": {},
   "outputs": [
    {
     "data": {
      "image/png": "[encoded data removed]",
      "text/plain": [
       "<Figure size 432x288 with 1 Axes>"
      ]
     },
     "metadata": {},
     "output_type": "display_data"
    }
   ],
   "source": [
    "longs = [x[0] for x in allcoords]\n",
    "lats = [x[1] for x in allcoords]\n",
    "\n",
    "plt.plot(longs,lats,'b.')\n",
    "plt.show()"
   ]
  },
  {
   "cell_type": "code",
   "execution_count": 46,
   "metadata": {},
   "outputs": [],
   "source": [
    "\n",
    "\n",
    "#check if a point is in a rectangle from bottom left point (x,y) with length l\n",
    "\n",
    "#point: (a,b)\n",
    "def point_in_box(point,box):\n",
    "    (a,b) = point\n",
    "    (x,y,l) = box\n",
    "    if (a>x) & (a<(x+l)) & (b>y) & (b<(y+l)):\n",
    "        return True\n",
    "    else:\n",
    "        return False\n",
    "    \n",
    "def generate_grid(bounds,l):\n",
    "    points=[]\n",
    "    \n",
    "    (xrange,yrange) = bounds\n",
    "    (xmin,xmax) = xrange\n",
    "    (ymin,ymax) = yrange\n",
    "    \n",
    "    nx = (xmax-xmin)/l;\n",
    "    ny = (ymax-ymin)/l;\n",
    "    \n",
    "    xlocs = np.linspace(xmin,xmax-l,nx);\n",
    "    ylocs = np.linspace(ymin,ymax-l,ny);\n",
    "    \n",
    "    for x in range(len(xlocs)):\n",
    "        for y in range(len(ylocs)):\n",
    "            points.append((xlocs[x],ylocs[y],l))\n",
    "            \n",
    "    return points\n",
    "\n",
    "def generate_bin_edges(bounds,l):\n",
    "    \n",
    "    (xrange,yrange) = bounds\n",
    "    (xmin,xmax) = xrange\n",
    "    (ymin,ymax) = yrange\n",
    "    \n",
    "    nx = (xmax-xmin)/l;\n",
    "    ny = (ymax-ymin)/l;\n",
    "    \n",
    "    xlocs = np.linspace(xmin,xmax-l,nx);\n",
    "    ylocs = np.linspace(ymin,ymax-l,ny);\n",
    "            \n",
    "    return (xlocs,ylocs)\n",
    "\n",
    "\n",
    "#create grid and check each point in the grid:\n",
    "def grid_count(datapoints,boxpoints):\n",
    "    N=0;\n",
    "    for box in boxpoints:\n",
    "        \n",
    "        for data in datapoints:\n",
    "            if point_in_box(data,box):\n",
    "                N += 1;\n",
    "                break;\n",
    "    return N\n",
    "\n",
    "def get_count(allcoords,l):\n",
    "    longs = [x[0] for x in allcoords]\n",
    "    lats  = [x[1] for x in allcoords]\n",
    "    \n",
    "    boundlong = (min(longs), max(longs))\n",
    "    boundlat = (min(lats), max(lats))\n",
    "    \n",
    "    grid, _, _ = np.histogram2d(longs, lats,bins=generate_bin_edges((boundlong,boundlat),l))\n",
    "    return np.count_nonzero(grid)\n",
    "\n",
    "def get_dimension(scale,counts):\n",
    "    slope, intercept, r_value, p_value, std_err = stats.linregress(np.log(scale),np.log(counts))\n",
    "\n",
    "    dimension = -slope\n",
    "    print(dimension)"
   ]
  },
  {
   "cell_type": "code",
   "execution_count": 47,
   "metadata": {
    "scrolled": false
   },
   "outputs": [
    {
     "name": "stderr",
     "output_type": "stream",
     "text": [
      "/Users/Devansh/anaconda3/lib/python3.6/site-packages/ipykernel_launcher.py:42: DeprecationWarning: object of type <class 'numpy.float64'> cannot be safely interpreted as an integer.\n",
      "/Users/Devansh/anaconda3/lib/python3.6/site-packages/ipykernel_launcher.py:43: DeprecationWarning: object of type <class 'numpy.float64'> cannot be safely interpreted as an integer.\n"
     ]
    },
    {
     "name": "stdout",
     "output_type": "stream",
     "text": [
      "31\n",
      "74\n",
      "207\n",
      "481\n",
      "1097\n",
      "2503\n",
      "5302\n",
      "10668\n",
      "19858\n",
      "34949\n",
      "59656\n",
      "98825\n",
      "157714\n",
      "246399\n",
      "380835\n",
      "583874\n",
      "890105\n",
      "1348456\n",
      "2024366\n",
      "3002301\n"
     ]
    }
   ],
   "source": [
    "ls = np.logspace(-2,-5.5,20)\n",
    "\n",
    "counts = [0]*len(ls)\n",
    "\n",
    "for i in range(len(ls)):\n",
    "    counts[i] = get_count(allcoords,ls[i])\n",
    "    print(counts[i])\n",
    "    "
   ]
  },
  {
   "cell_type": "code",
   "execution_count": 48,
   "metadata": {
    "scrolled": true
   },
   "outputs": [
    {
     "name": "stderr",
     "output_type": "stream",
     "text": [
      "/Users/Devansh/anaconda3/lib/python3.6/site-packages/matplotlib/cbook/deprecation.py:107: MatplotlibDeprecationWarning: Passing one of 'on', 'true', 'off', 'false' as a boolean is deprecated; use an actual boolean (True/False) instead.\n",
      "  warnings.warn(message, mplDeprecation, stacklevel=1)\n"
     ]
    },
    {
     "data": {
      "image/png": "[encoded data removed]",
      "text/plain": [
       "<Figure size 432x288 with 1 Axes>"
      ]
     },
     "metadata": {},
     "output_type": "display_data"
    }
   ],
   "source": [
    "plt.loglog(ls,counts,'bx')\n",
    "plt.grid(\"True\")\n",
    "plt.show()"
   ]
  },
  {
   "cell_type": "code",
   "execution_count": 49,
   "metadata": {},
   "outputs": [
    {
     "name": "stdout",
     "output_type": "stream",
     "text": [
      "1.38497406082\n"
     ]
    }
   ],
   "source": [
    "get_dimension(ls,counts)"
   ]
  },
  {
   "cell_type": "code",
   "execution_count": 50,
   "metadata": {},
   "outputs": [
    {
     "data": {
      "text/plain": [
       "[<matplotlib.lines.Line2D at 0x10edcb208>]"
      ]
     },
     "execution_count": 50,
     "metadata": {},
     "output_type": "execute_result"
    },
    {
     "data": {
      "image/png": "[encoded data removed]",
      "text/plain": [
       "<Figure size 432x288 with 1 Axes>"
      ]
     },
     "metadata": {},
     "output_type": "display_data"
    }
   ],
   "source": [
    "x = np.log10(ls)\n",
    "y = np.log10(counts)\n",
    "\n",
    "from scipy import optimize\n",
    "def piecewise_linear(x, x0, y0, k1, k2):\n",
    "    return np.piecewise(x, [x < x0], [lambda x:k1*x + y0-k1*x0, lambda x:k2*x + y0-k2*x0])\n",
    "\n",
    "p , e = optimize.curve_fit(piecewise_linear, x,y,p0=(-2.5,2,-1,-2))\n",
    "xd = np.linspace(-2, -5.5, 100)\n",
    "plt.plot(x,y, \"o\")\n",
    "plt.grid(True)\n",
    "plt.plot(xd, piecewise_linear(xd, *p))"
   ]
  },
  {
   "cell_type": "code",
   "execution_count": 51,
   "metadata": {},
   "outputs": [
    {
     "data": {
      "text/plain": [
       "array([-3.28289888,  4.1300307 , -1.08961378, -2.03221065])"
      ]
     },
     "execution_count": 51,
     "metadata": {},
     "output_type": "execute_result"
    }
   ],
   "source": [
    "p"
   ]
  },
  {
   "cell_type": "code",
   "execution_count": null,
   "metadata": {},
   "outputs": [],
   "source": []
  }
 ],
 "metadata": {
  "kernelspec": {
   "display_name": "Python 3",
   "language": "python",
   "name": "python3"
  },
  "language_info": {
   "codemirror_mode": {
    "name": "ipython",
    "version": 3
   },
   "file_extension": ".py",
   "mimetype": "text/x-python",
   "name": "python",
   "nbconvert_exporter": "python",
   "pygments_lexer": "ipython3",
   "version": "3.6.7"
  }
 },
 "nbformat": 4,
 "nbformat_minor": 2
}
